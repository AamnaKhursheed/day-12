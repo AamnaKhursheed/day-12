{
 "cells": [
  {
   "cell_type": "code",
   "execution_count": null,
   "metadata": {},
   "outputs": [],
   "source": [
    "import cv2 as cv\n",
    "import numpy as np\n",
    "img = cv.imread('./earth-globe.jpg')\n",
    "cv.imshow('windowTitle', img)\n",
    "cv.waitKey(0)\n",
    "# Read image\n",
    "img = cv.imread('./earth-globe.jpg',cv.IMREAD_COLOR)\n",
    "alpha_img = cv.imread('./earth-globe.jpg', cv.IMREAD_UNCHANGED)\n",
    "gray_img = cv.imread('./earth-globe.jpg', cv.IMREAD_GRAYSCALE)\n",
    "\n",
    "\n",
    "print ('RGB shape: ', img.shape)        # Rows, cols, channels\n",
    "print ('ARGB shape:', alpha_img.shape)\n",
    "print ('Gray shape:', gray_img.shape)    #grey scale gives rows and cols anly\n",
    "#dtype is very important while debugging because a large number of errors in OpenCV-Python code are caused by invalid datatype.\n",
    "print ('img.dtype: ', img.dtype)            #image data type\n",
    "print ('img.size: ', img.size)\n",
    "\n",
    "#b = img[0,:,:] #splitting blue color #time taking..."
   ]
  },
  {
   "cell_type": "code",
   "execution_count": null,
   "metadata": {},
   "outputs": [],
   "source": []
  }
 ],
 "metadata": {
  "kernelspec": {
   "display_name": "Python 3",
   "language": "python",
   "name": "python3"
  },
  "language_info": {
   "codemirror_mode": {
    "name": "ipython",
    "version": 3
   },
   "file_extension": ".py",
   "mimetype": "text/x-python",
   "name": "python",
   "nbconvert_exporter": "python",
   "pygments_lexer": "ipython3",
   "version": "3.7.4"
  }
 },
 "nbformat": 4,
 "nbformat_minor": 2
}
